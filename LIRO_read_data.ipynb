{
 "cells": [
  {
   "cell_type": "code",
   "execution_count": 81,
   "metadata": {},
   "outputs": [],
   "source": [
    "import pandas as pd\n",
    "import numpy as np\n",
    "from glob import glob\n",
    "import matplotlib.pyplot as plt"
   ]
  },
  {
   "cell_type": "code",
   "execution_count": 37,
   "metadata": {},
   "outputs": [],
   "source": [
    "def create_data(file_name,var_name,name_to_write,QC_names,sub_names,final_sub_names,freq='1min'):\n",
    "    filepath=file_name+var_name\n",
    "\n",
    "    df_all=pd.DataFrame()\n",
    "    for f in glob(filepath+'*'):\n",
    "\n",
    "        all_files=glob(f+'/*.csv')\n",
    "        for i  in all_files:\n",
    "            if str.find(i,freq)!=-1:\n",
    "                print('file is found')\n",
    "                data_file=i\n",
    "\n",
    "        df=pd.read_csv(data_file)\n",
    "        df.index=pd.to_datetime(df['startDateTime'].values)\n",
    "\n",
    "        for QC in QC_names:\n",
    "            df=df[df[QC]!=1]\n",
    "\n",
    "        df_final=df.filter(sub_names)\n",
    "        df_final.columns=final_sub_names\n",
    "        df_all=pd.concat([df_all,df_final])\n",
    "    df_all.to_csv(file_name+name_to_write+'.csv')\n",
    "    return df_all"
   ]
  },
  {
   "cell_type": "code",
   "execution_count": 53,
   "metadata": {},
   "outputs": [
    {
     "name": "stdout",
     "output_type": "stream",
     "text": [
      "file is found\n",
      "file is found\n",
      "file is found\n",
      "file is found\n",
      "file is found\n",
      "file is found\n",
      "file is found\n",
      "file is found\n",
      "file is found\n",
      "file is found\n",
      "file is found\n",
      "file is found\n",
      "file is found\n",
      "file is found\n",
      "file is found\n",
      "file is found\n",
      "file is found\n",
      "file is found\n",
      "file is found\n",
      "file is found\n",
      "file is found\n"
     ]
    }
   ],
   "source": [
    "file_name='lake/'\n",
    "var_name='NEON_rad-net-buoy/'\n",
    "name_to_write='radiation'\n",
    "QC_names=['inSWFinalQF','outSWFinalQF','inLWFinalQF','outLWFinalQF']\n",
    "sub_names=['inSWMean','outSWMean','inLWMean','outLWMean']\n",
    "final_sub_names=['SWIN','SWOUT','LWIN','LWOUT']\n",
    "df_radiation=create_data(file_name,var_name,name_to_write,QC_names,sub_names,final_sub_names)"
   ]
  },
  {
   "cell_type": "code",
   "execution_count": 54,
   "metadata": {},
   "outputs": [
    {
     "name": "stdout",
     "output_type": "stream",
     "text": [
      "file is found\n",
      "file is found\n",
      "file is found\n",
      "file is found\n",
      "file is found\n",
      "file is found\n",
      "file is found\n",
      "file is found\n",
      "file is found\n",
      "file is found\n",
      "file is found\n",
      "file is found\n",
      "file is found\n",
      "file is found\n",
      "file is found\n",
      "file is found\n",
      "file is found\n",
      "file is found\n",
      "file is found\n",
      "file is found\n",
      "file is found\n"
     ]
    }
   ],
   "source": [
    "file_name='lake/'\n",
    "var_name='NEON_temp-air-buoy/'\n",
    "name_to_write='airtemp'\n",
    "QC_names=['tempRHFinalQF']\n",
    "sub_names=['tempRHMean']\n",
    "final_sub_names=['Tair']\n",
    "df_airtemp=create_data(file_name,var_name,name_to_write,QC_names,sub_names,final_sub_names)"
   ]
  },
  {
   "cell_type": "code",
   "execution_count": 55,
   "metadata": {},
   "outputs": [
    {
     "name": "stdout",
     "output_type": "stream",
     "text": [
      "file is found\n",
      "file is found\n",
      "file is found\n",
      "file is found\n",
      "file is found\n",
      "file is found\n",
      "file is found\n",
      "file is found\n",
      "file is found\n",
      "file is found\n",
      "file is found\n",
      "file is found\n",
      "file is found\n",
      "file is found\n",
      "file is found\n",
      "file is found\n",
      "file is found\n",
      "file is found\n",
      "file is found\n",
      "file is found\n",
      "file is found\n",
      "file is found\n"
     ]
    }
   ],
   "source": [
    "file_name='lake/'\n",
    "var_name='NEON_rel-humidity-buoy/'\n",
    "name_to_write='RH'\n",
    "QC_names=['RHFinalQF']\n",
    "sub_names=['RHMean']\n",
    "final_sub_names=['RH']\n",
    "df_RH=create_data(file_name,var_name,name_to_write,QC_names,sub_names,final_sub_names)"
   ]
  },
  {
   "cell_type": "code",
   "execution_count": 56,
   "metadata": {},
   "outputs": [
    {
     "name": "stdout",
     "output_type": "stream",
     "text": [
      "file is found\n",
      "file is found\n",
      "file is found\n",
      "file is found\n",
      "file is found\n",
      "file is found\n",
      "file is found\n",
      "file is found\n",
      "file is found\n",
      "file is found\n",
      "file is found\n",
      "file is found\n",
      "file is found\n",
      "file is found\n",
      "file is found\n",
      "file is found\n",
      "file is found\n",
      "file is found\n",
      "file is found\n",
      "file is found\n",
      "file is found\n",
      "file is found\n",
      "file is found\n"
     ]
    }
   ],
   "source": [
    "file_name='lake/'\n",
    "var_name='NEON_pressure-air-buoy/'\n",
    "name_to_write='pressure'\n",
    "QC_names=['staPresFinalQF']\n",
    "sub_names=['staPresMean']\n",
    "final_sub_names=['pres']\n",
    "df_pres=create_data(file_name,var_name,name_to_write,QC_names,sub_names,final_sub_names)"
   ]
  },
  {
   "cell_type": "code",
   "execution_count": 126,
   "metadata": {},
   "outputs": [
    {
     "name": "stdout",
     "output_type": "stream",
     "text": [
      "file is found\n",
      "file is found\n",
      "file is found\n",
      "file is found\n",
      "file is found\n",
      "file is found\n",
      "file is found\n",
      "file is found\n",
      "file is found\n",
      "file is found\n",
      "file is found\n",
      "file is found\n",
      "file is found\n",
      "file is found\n",
      "file is found\n",
      "file is found\n",
      "file is found\n",
      "file is found\n",
      "file is found\n",
      "file is found\n",
      "file is found\n",
      "file is found\n",
      "file is found\n"
     ]
    }
   ],
   "source": [
    "file_name='lake/'\n",
    "var_name='NEON_elev-surfacewater/'\n",
    "name_to_write='surfacewaterElev'\n",
    "QC_names=['sWatElevFinalQF']\n",
    "sub_names=['surfacewaterElevMean']\n",
    "final_sub_names=['surfacewaterElev']\n",
    "df_swe=create_data(file_name,var_name,name_to_write,QC_names,sub_names,final_sub_names,freq='140.100.005.EOS_5_min')"
   ]
  },
  {
   "cell_type": "code",
   "execution_count": 127,
   "metadata": {},
   "outputs": [
    {
     "name": "stdout",
     "output_type": "stream",
     "text": [
      "file is found\n",
      "file is found\n",
      "file is found\n",
      "file is found\n",
      "file is found\n",
      "file is found\n",
      "file is found\n",
      "file is found\n",
      "file is found\n",
      "file is found\n",
      "file is found\n",
      "file is found\n",
      "file is found\n",
      "file is found\n",
      "file is found\n",
      "file is found\n"
     ]
    }
   ],
   "source": [
    "file_name='lake/'\n",
    "var_name='NEON_wind-buoy/'\n",
    "name_to_write='WS'\n",
    "QC_names=['buoyWindSpeedFinalQF']\n",
    "sub_names=['buoyWindSpeedMean']\n",
    "final_sub_names=['WS']\n",
    "df_ws=create_data(file_name,var_name,name_to_write,QC_names,sub_names,final_sub_names,freq='2min')"
   ]
  },
  {
   "cell_type": "code",
   "execution_count": 128,
   "metadata": {},
   "outputs": [],
   "source": [
    "df_radiation_30min=df_radiation.resample('30min').mean()\n",
    "df_airtemp_30min=df_airtemp.resample('30min').mean()\n",
    "df_RH_30min=df_RH.resample('30min').mean()\n",
    "df_pres_30min=df_pres.resample('30min').mean()\n",
    "df_swe_30min=df_swe.resample('30min').mean()\n",
    "df_ws_30min=df_ws.resample('30min').mean()"
   ]
  },
  {
   "cell_type": "code",
   "execution_count": 129,
   "metadata": {},
   "outputs": [],
   "source": [
    "df=df_radiation_30min.merge(df_airtemp_30min,left_index=True,right_index=True)\n",
    "df=df.merge(df_RH_30min,left_index=True,right_index=True)\n",
    "df=df.merge(df_pres_30min,left_index=True,right_index=True)\n",
    "df=df.merge(df_swe_30min,left_index=True,right_index=True)\n",
    "df=df.merge(df_ws_30min,left_index=True,right_index=True)"
   ]
  },
  {
   "cell_type": "code",
   "execution_count": 130,
   "metadata": {},
   "outputs": [],
   "source": [
    "df.to_csv(file_name+'LIRO.csv')"
   ]
  },
  {
   "cell_type": "code",
   "execution_count": 131,
   "metadata": {},
   "outputs": [
    {
     "data": {
      "text/html": [
       "<div>\n",
       "<style scoped>\n",
       "    .dataframe tbody tr th:only-of-type {\n",
       "        vertical-align: middle;\n",
       "    }\n",
       "\n",
       "    .dataframe tbody tr th {\n",
       "        vertical-align: top;\n",
       "    }\n",
       "\n",
       "    .dataframe thead th {\n",
       "        text-align: right;\n",
       "    }\n",
       "</style>\n",
       "<table border=\"1\" class=\"dataframe\">\n",
       "  <thead>\n",
       "    <tr style=\"text-align: right;\">\n",
       "      <th></th>\n",
       "      <th>SWIN</th>\n",
       "      <th>SWOUT</th>\n",
       "      <th>LWIN</th>\n",
       "      <th>LWOUT</th>\n",
       "      <th>Tair</th>\n",
       "      <th>RH</th>\n",
       "      <th>pres</th>\n",
       "      <th>surfacewaterElev</th>\n",
       "      <th>WS</th>\n",
       "    </tr>\n",
       "  </thead>\n",
       "  <tbody>\n",
       "    <tr>\n",
       "      <th>2018-07-13 18:00:00+00:00</th>\n",
       "      <td>20.600000</td>\n",
       "      <td>3.540000</td>\n",
       "      <td>365.533333</td>\n",
       "      <td>444.866667</td>\n",
       "      <td>21.502733</td>\n",
       "      <td>NaN</td>\n",
       "      <td>95.822638</td>\n",
       "      <td>NaN</td>\n",
       "      <td>NaN</td>\n",
       "    </tr>\n",
       "    <tr>\n",
       "      <th>2018-07-13 18:30:00+00:00</th>\n",
       "      <td>6.858667</td>\n",
       "      <td>2.329667</td>\n",
       "      <td>363.733333</td>\n",
       "      <td>443.770000</td>\n",
       "      <td>20.580267</td>\n",
       "      <td>NaN</td>\n",
       "      <td>95.849933</td>\n",
       "      <td>NaN</td>\n",
       "      <td>NaN</td>\n",
       "    </tr>\n",
       "    <tr>\n",
       "      <th>2018-07-13 19:00:00+00:00</th>\n",
       "      <td>-3.328667</td>\n",
       "      <td>1.821333</td>\n",
       "      <td>361.820000</td>\n",
       "      <td>442.186667</td>\n",
       "      <td>20.026533</td>\n",
       "      <td>NaN</td>\n",
       "      <td>95.892198</td>\n",
       "      <td>NaN</td>\n",
       "      <td>NaN</td>\n",
       "    </tr>\n",
       "    <tr>\n",
       "      <th>2018-07-13 19:30:00+00:00</th>\n",
       "      <td>-3.991333</td>\n",
       "      <td>2.073667</td>\n",
       "      <td>357.640000</td>\n",
       "      <td>441.100000</td>\n",
       "      <td>19.704133</td>\n",
       "      <td>NaN</td>\n",
       "      <td>95.928470</td>\n",
       "      <td>NaN</td>\n",
       "      <td>NaN</td>\n",
       "    </tr>\n",
       "    <tr>\n",
       "      <th>2018-07-13 20:00:00+00:00</th>\n",
       "      <td>-4.196000</td>\n",
       "      <td>1.917667</td>\n",
       "      <td>353.883333</td>\n",
       "      <td>440.173333</td>\n",
       "      <td>19.300100</td>\n",
       "      <td>NaN</td>\n",
       "      <td>95.940450</td>\n",
       "      <td>NaN</td>\n",
       "      <td>NaN</td>\n",
       "    </tr>\n",
       "  </tbody>\n",
       "</table>\n",
       "</div>"
      ],
      "text/plain": [
       "                                SWIN     SWOUT        LWIN       LWOUT  \\\n",
       "2018-07-13 18:00:00+00:00  20.600000  3.540000  365.533333  444.866667   \n",
       "2018-07-13 18:30:00+00:00   6.858667  2.329667  363.733333  443.770000   \n",
       "2018-07-13 19:00:00+00:00  -3.328667  1.821333  361.820000  442.186667   \n",
       "2018-07-13 19:30:00+00:00  -3.991333  2.073667  357.640000  441.100000   \n",
       "2018-07-13 20:00:00+00:00  -4.196000  1.917667  353.883333  440.173333   \n",
       "\n",
       "                                Tair  RH       pres  surfacewaterElev  WS  \n",
       "2018-07-13 18:00:00+00:00  21.502733 NaN  95.822638               NaN NaN  \n",
       "2018-07-13 18:30:00+00:00  20.580267 NaN  95.849933               NaN NaN  \n",
       "2018-07-13 19:00:00+00:00  20.026533 NaN  95.892198               NaN NaN  \n",
       "2018-07-13 19:30:00+00:00  19.704133 NaN  95.928470               NaN NaN  \n",
       "2018-07-13 20:00:00+00:00  19.300100 NaN  95.940450               NaN NaN  "
      ]
     },
     "execution_count": 131,
     "metadata": {},
     "output_type": "execute_result"
    }
   ],
   "source": [
    "df.head()"
   ]
  },
  {
   "cell_type": "code",
   "execution_count": null,
   "metadata": {},
   "outputs": [],
   "source": []
  }
 ],
 "metadata": {
  "kernelspec": {
   "display_name": "Python 3",
   "language": "python",
   "name": "python3"
  },
  "language_info": {
   "codemirror_mode": {
    "name": "ipython",
    "version": 3
   },
   "file_extension": ".py",
   "mimetype": "text/x-python",
   "name": "python",
   "nbconvert_exporter": "python",
   "pygments_lexer": "ipython3",
   "version": "3.7.3"
  },
  "toc": {
   "base_numbering": 1,
   "nav_menu": {},
   "number_sections": true,
   "sideBar": true,
   "skip_h1_title": false,
   "title_cell": "Table of Contents",
   "title_sidebar": "Contents",
   "toc_cell": false,
   "toc_position": {},
   "toc_section_display": true,
   "toc_window_display": false
  }
 },
 "nbformat": 4,
 "nbformat_minor": 2
}
